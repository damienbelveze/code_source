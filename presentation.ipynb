{
  "cells": [
    {
      "cell_type": "raw",
      "metadata": {},
      "source": [
        "---\n",
        "title: \"préserver et ouvrir ses codes sources et logiciels \"\n",
        "subtitle: \"Printemps de la donnée 2024\"\n",
        "date: 13/06/2024\n",
        "author: \n",
        "    - name: Jozefina Sadowska\n",
        "      email: josephine.sadowska@inria.fr\n",
        "      affilisation: \n",
        "        - name: INRIA\n",
        "          city: Rennes\n",
        "          \n",
        "    - name: Damien Belvèze\n",
        "      email: damien.belveze@univ-rennes.fr\n",
        "      affiliation: \n",
        "        - name: Université de Rennes\n",
        "          city: Rennes\n",
        "\n",
        "format: \n",
        "    revealjs:\n",
        "        slide-number: c/t\n",
        "#        show-slide-number: # print\n",
        "#       show-notes: separate-page\n",
        "        embed-resources: true\n",
        "        transition: convex\n",
        "        from: markdown+emoji\n",
        "        theme: [dark, monstyle.css]\n",
        "        reveal_plugins: [menu]\n",
        "        reveal_options: \n",
        "          menu: \n",
        "            numbers: true\n",
        "\n",
        "#bibliography: references.bib\n",
        "#csl: apa.csl\n",
        "---"
      ],
      "id": "6324d6af"
    },
    {
      "cell_type": "markdown",
      "metadata": {},
      "source": [
        "# {background-color=\"#fef1da\"}\n",
        "\n",
        "\n",
        "```{html}\n",
        "<figure class=\"quote\">\n",
        "  <blockquote>\n",
        "    If you ever find yourself in an award committee, or a grant funding panel, or a search committee, may you voice these thoughts out loud. Software development contributions are immensely valuable.\n",
        "Software developed by PhD students and postdocs without any formal training has gone on to save academia many millions on software licenses, in addition to enabling research that was not possible otherwise. I wish this had been quantified. Let s not take it for granted.\n",
        "  </blockquote>\n",
        "  <figcaption>\n",
        "    &mdash; Albert Cardona, <cite>On Mastodon</cite>  \n",
        "  </figcaption>\n",
        "</figure>\n",
        "```"
      ],
      "id": "925d0a0f"
    }
  ],
  "metadata": {
    "kernelspec": {
      "display_name": "Python 3",
      "language": "python",
      "name": "python3"
    }
  },
  "nbformat": 4,
  "nbformat_minor": 5
}